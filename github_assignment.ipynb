{
  "nbformat": 4,
  "nbformat_minor": 0,
  "metadata": {
    "colab": {
      "name": "github assignment.ipynb",
      "provenance": [],
      "collapsed_sections": [],
      "authorship_tag": "ABX9TyO9py+oy1v1Tf2551P3oggi",
      "include_colab_link": true
    },
    "kernelspec": {
      "name": "python3",
      "display_name": "Python 3"
    },
    "language_info": {
      "name": "python"
    }
  },
  "cells": [
    {
      "cell_type": "markdown",
      "metadata": {
        "id": "view-in-github",
        "colab_type": "text"
      },
      "source": [
        "<a href=\"https://colab.research.google.com/github/AnimeshR22/Excaliber2003/blob/main/github_assignment.ipynb\" target=\"_parent\"><img src=\"https://colab.research.google.com/assets/colab-badge.svg\" alt=\"Open In Colab\"/></a>"
      ]
    },
    {
      "cell_type": "code",
      "execution_count": null,
      "metadata": {
        "id": "dTpxjPUF_dYe"
      },
      "outputs": [],
      "source": [
        "import pandas as pd\n",
        "import numpy as np\n"
      ]
    },
    {
      "cell_type": "code",
      "source": [
        "print(\"Mark of Animesh\") \n",
        "marks=[97,95,81,94,93] \n",
        "sub_name=['Maths', 'Science', 'Computer', 'Social', 'English'] \n",
        "ind=pd.Series (marks,index=sub_name) \n",
        "dt=pd.DataFrame(\n",
        "    {\n",
        "        \"Subjects\":pd.Series(sub_name), \n",
        "        \"Marks\": pd. Series (marks), \n",
        "        \"Grade\":pd. Series(['A', 'B','C','A','A']), \n",
        "        \"Qualification\":'Pass', \n",
        "        \"Rank\": np.array([1]*5),\n",
        "    }\n",
        ")\n",
        "dt1=pd.DataFrame(\n",
        "    {\n",
        "      \"Remarks\":pd.Categorical([\"Great Job\"]),\n",
        "    }\n",
        ")\n",
        "dtfl=pd.concat([dt, dt1]) \n",
        "print(dtfl)\n"
      ],
      "metadata": {
        "colab": {
          "base_uri": "https://localhost:8080/"
        },
        "id": "7T6OMLjmB_CZ",
        "outputId": "684182d3-7099-4c33-bf36-7ac073ad3e82"
      },
      "execution_count": null,
      "outputs": [
        {
          "output_type": "stream",
          "name": "stdout",
          "text": [
            "Mark of Animesh\n",
            "   Subjects  Marks Grade Qualification  Rank    Remarks\n",
            "0     Maths   97.0     A          Pass   1.0        NaN\n",
            "1   Science   95.0     B          Pass   1.0        NaN\n",
            "2  Computer   81.0     C          Pass   1.0        NaN\n",
            "3    Social   94.0     A          Pass   1.0        NaN\n",
            "4   English   93.0     A          Pass   1.0        NaN\n",
            "0       NaN    NaN   NaN           NaN   NaN  Great Job\n"
          ]
        }
      ]
    },
    {
      "cell_type": "code",
      "source": [
        "marks=[97,94,81,94,91] \n",
        "sub_name=['Maths','Science','Computer','Social','English'] \n",
        "ind-pd.Series(marks,index=sub_name) \n",
        "dt=pd.DataFrame(\n",
        "    {\n",
        "        \"Subjects\":pd.Series (sub_name), \n",
        "        \"Marks\":pd.Series (marks), \n",
        "        \"Grade\" : pd.Series(['A','B','C','A','A']), \n",
        "        \"Qualification\":'Pass', \n",
        "        \"Rank\":np.array([1]*5),\n",
        "    }\n",
        ")    \n",
        "print(marks) \n",
        "mrk=np.mean(marks) \n",
        "mrk1=np.median (marks)\n",
        "print(\"Mean marks is:\",mrk) \n",
        "print(\"Median mark is:\",mrk1) \n",
        "x=np.percentile(marks, 80, axis=None, interpolation='midpoint') \n",
        "print(\"Percentile function:\",x) \n",
        "y=np.var(marks, axis=None, dtype=None, ddof=0) \n",
        "print(\"Variance function:\",y) \n",
        "z=np.std(marks, axis=None, dtype=None, ddof=0) \n",
        "print(\"Standard deviation:\",z)"
      ],
      "metadata": {
        "id": "JSRpvFiwCIPQ",
        "colab": {
          "base_uri": "https://localhost:8080/"
        },
        "outputId": "61ad8744-c282-4492-bf54-cf97085c0288"
      },
      "execution_count": null,
      "outputs": [
        {
          "output_type": "stream",
          "name": "stdout",
          "text": [
            "[97, 94, 81, 94, 91]\n",
            "Mean marks is: 91.4\n",
            "Median mark is: 94.0\n",
            "Percentile function: 95.5\n",
            "Variance function: 30.639999999999997\n",
            "Standard deviation: 5.535341001239218\n"
          ]
        }
      ]
    },
    {
      "cell_type": "code",
      "source": [
        "print(\"Mark of Animesh\") \n",
        "marks=[97,94,81,95,93] \n",
        "sub_name=['Maths', 'Science', 'Computer', 'Social', 'English'] \n",
        "ind=pd.Series(marks, index=sub_name) \n",
        "dt=pd.DataFrame(\n",
        "    {\n",
        "        \"Subjects\":pd.Series(sub_name), \n",
        "        \"Marks\": pd. Series (marks), \n",
        "        \"Grade\":pd. Series(['A', 'B','C','A','A']), \n",
        "        \"Qualification\":'Pass', \n",
        "        \"Rank\": np.array([1]*5),\n",
        "    }\n",
        ")    \n",
        "dt1=pd.DataFrame(\n",
        "    {\n",
        "        \"Remarks\":pd.Categorical([\"Great Job\"]),\n",
        "    }\n",
        ")    \n",
        "dtfl=pd.concat([dt, dt1]) \n",
        "print(dtfl)\n"
      ],
      "metadata": {
        "colab": {
          "base_uri": "https://localhost:8080/"
        },
        "id": "ND8Gk5lqGi0q",
        "outputId": "5314aa00-5935-4c8a-9265-25cf2165e426"
      },
      "execution_count": null,
      "outputs": [
        {
          "output_type": "stream",
          "name": "stdout",
          "text": [
            "Mark of Animesh\n",
            "   Subjects  Marks Grade Qualification  Rank    Remarks\n",
            "0     Maths   97.0     A          Pass   1.0        NaN\n",
            "1   Science   94.0     B          Pass   1.0        NaN\n",
            "2  Computer   81.0     C          Pass   1.0        NaN\n",
            "3    Social   95.0     A          Pass   1.0        NaN\n",
            "4   English   93.0     A          Pass   1.0        NaN\n",
            "0       NaN    NaN   NaN           NaN   NaN  Great Job\n"
          ]
        }
      ]
    }
  ]
}